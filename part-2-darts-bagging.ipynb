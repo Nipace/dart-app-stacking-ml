{
 "cells": [
  {
   "cell_type": "code",
   "execution_count": 1,
   "metadata": {},
   "outputs": [],
   "source": [
    "import pandas as pd\n",
    "import numpy as np\n",
    "import matplotlib.pyplot as plt\n",
    "from sklearn.ensemble import BaggingClassifier\n",
    "from sklearn.tree import DecisionTreeClassifier\n",
    "from sklearn.metrics import accuracy_score"
   ]
  },
  {
   "cell_type": "code",
   "execution_count": 2,
   "metadata": {},
   "outputs": [],
   "source": [
    "\n",
    "# Loading data\n",
    "train = pd.read_csv('/Users/nipace/Documents/semo/ml/ml-assignment-8/MLPB/Problems/Classify Dart Throwers/_Data/train.csv')\n",
    "test = pd.read_csv('/Users/nipace/Documents/semo/ml/ml-assignment-8/MLPB/Problems/Classify Dart Throwers/_Data/test.csv')"
   ]
  },
  {
   "cell_type": "code",
   "execution_count": 3,
   "metadata": {},
   "outputs": [],
   "source": [
    "\n",
    "train['Competitor'] = train['Competitor'].astype('category')\n",
    "test['Competitor'] = test['Competitor'].astype('category')\n"
   ]
  },
  {
   "cell_type": "code",
   "execution_count": 4,
   "metadata": {},
   "outputs": [],
   "source": [
    "train['DistFromCenter'] = np.sqrt(train['XCoord']**2 + train['YCoord']**2)\n",
    "test['DistFromCenter'] = np.sqrt(test['XCoord']**2 + test['YCoord']**2)"
   ]
  },
  {
   "cell_type": "code",
   "execution_count": 6,
   "metadata": {},
   "outputs": [
    {
     "name": "stdout",
     "output_type": "stream",
     "text": [
      "Bagging Model Accuracy: 0.9189\n"
     ]
    }
   ],
   "source": [
    "# Defined features and target\n",
    "features = ['XCoord', 'YCoord', 'DistFromCenter'] \n",
    "X_train = train[features]\n",
    "y_train = train['Competitor'].cat.codes  # Convert target to numerical codes\n",
    "X_test = test[features]\n",
    "y_test = test['Competitor'].cat.codes\n",
    "\n",
    "# Initialize BaggingClassifier with DecisionTreeClassifier as the base estimator\n",
    "bagging_model = BaggingClassifier(\n",
    "    estimator=DecisionTreeClassifier(),\n",
    "    n_estimators=50, \n",
    "    random_state=2016\n",
    ")\n",
    "\n",
    "# Training the bagging model\n",
    "bagging_model.fit(X_train, y_train)\n",
    "\n",
    "# Predicting on the test set\n",
    "y_pred = bagging_model.predict(X_test)\n",
    "\n",
    "# Evaluating the accuracy of the bagging model\n",
    "bagging_accuracy = accuracy_score(y_test, y_pred)\n",
    "print(f\"Bagging Model Accuracy: {bagging_accuracy:.4f}\")"
   ]
  },
  {
   "cell_type": "code",
   "execution_count": null,
   "metadata": {},
   "outputs": [],
   "source": []
  }
 ],
 "metadata": {
  "kernelspec": {
   "display_name": "base",
   "language": "python",
   "name": "python3"
  },
  "language_info": {
   "codemirror_mode": {
    "name": "ipython",
    "version": 3
   },
   "file_extension": ".py",
   "mimetype": "text/x-python",
   "name": "python",
   "nbconvert_exporter": "python",
   "pygments_lexer": "ipython3",
   "version": "3.12.4"
  }
 },
 "nbformat": 4,
 "nbformat_minor": 2
}
